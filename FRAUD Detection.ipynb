{
 "cells": [
  {
   "cell_type": "code",
   "execution_count": 1,
   "id": "974c387c",
   "metadata": {},
   "outputs": [],
   "source": [
    "import pandas as pd\n",
    "import numpy as np\n",
    "import matplotlib.pyplot as plt\n",
    "import seaborn as sns\n",
    "import warnings\n",
    "warnings.filterwarnings('ignore')\n",
    "pd.set_option(\"display.max_columns\",None)"
   ]
  },
  {
   "cell_type": "markdown",
   "id": "35ffb0d4",
   "metadata": {},
   "source": [
    "# Importing the Data"
   ]
  },
  {
   "cell_type": "code",
   "execution_count": 2,
   "id": "a65447d7",
   "metadata": {},
   "outputs": [
    {
     "data": {
      "text/html": [
       "<div>\n",
       "<style scoped>\n",
       "    .dataframe tbody tr th:only-of-type {\n",
       "        vertical-align: middle;\n",
       "    }\n",
       "\n",
       "    .dataframe tbody tr th {\n",
       "        vertical-align: top;\n",
       "    }\n",
       "\n",
       "    .dataframe thead th {\n",
       "        text-align: right;\n",
       "    }\n",
       "</style>\n",
       "<table border=\"1\" class=\"dataframe\">\n",
       "  <thead>\n",
       "    <tr style=\"text-align: right;\">\n",
       "      <th></th>\n",
       "      <th>step</th>\n",
       "      <th>type</th>\n",
       "      <th>amount</th>\n",
       "      <th>nameOrig</th>\n",
       "      <th>oldbalanceOrg</th>\n",
       "      <th>newbalanceOrig</th>\n",
       "      <th>nameDest</th>\n",
       "      <th>oldbalanceDest</th>\n",
       "      <th>newbalanceDest</th>\n",
       "      <th>isFraud</th>\n",
       "      <th>isFlaggedFraud</th>\n",
       "    </tr>\n",
       "  </thead>\n",
       "  <tbody>\n",
       "    <tr>\n",
       "      <th>0</th>\n",
       "      <td>1</td>\n",
       "      <td>PAYMENT</td>\n",
       "      <td>9839.64</td>\n",
       "      <td>C1231006815</td>\n",
       "      <td>170136.0</td>\n",
       "      <td>160296.36</td>\n",
       "      <td>M1979787155</td>\n",
       "      <td>0.0</td>\n",
       "      <td>0.0</td>\n",
       "      <td>0</td>\n",
       "      <td>0</td>\n",
       "    </tr>\n",
       "    <tr>\n",
       "      <th>1</th>\n",
       "      <td>1</td>\n",
       "      <td>PAYMENT</td>\n",
       "      <td>1864.28</td>\n",
       "      <td>C1666544295</td>\n",
       "      <td>21249.0</td>\n",
       "      <td>19384.72</td>\n",
       "      <td>M2044282225</td>\n",
       "      <td>0.0</td>\n",
       "      <td>0.0</td>\n",
       "      <td>0</td>\n",
       "      <td>0</td>\n",
       "    </tr>\n",
       "    <tr>\n",
       "      <th>2</th>\n",
       "      <td>1</td>\n",
       "      <td>TRANSFER</td>\n",
       "      <td>181.00</td>\n",
       "      <td>C1305486145</td>\n",
       "      <td>181.0</td>\n",
       "      <td>0.00</td>\n",
       "      <td>C553264065</td>\n",
       "      <td>0.0</td>\n",
       "      <td>0.0</td>\n",
       "      <td>1</td>\n",
       "      <td>0</td>\n",
       "    </tr>\n",
       "    <tr>\n",
       "      <th>3</th>\n",
       "      <td>1</td>\n",
       "      <td>CASH_OUT</td>\n",
       "      <td>181.00</td>\n",
       "      <td>C840083671</td>\n",
       "      <td>181.0</td>\n",
       "      <td>0.00</td>\n",
       "      <td>C38997010</td>\n",
       "      <td>21182.0</td>\n",
       "      <td>0.0</td>\n",
       "      <td>1</td>\n",
       "      <td>0</td>\n",
       "    </tr>\n",
       "    <tr>\n",
       "      <th>4</th>\n",
       "      <td>1</td>\n",
       "      <td>PAYMENT</td>\n",
       "      <td>11668.14</td>\n",
       "      <td>C2048537720</td>\n",
       "      <td>41554.0</td>\n",
       "      <td>29885.86</td>\n",
       "      <td>M1230701703</td>\n",
       "      <td>0.0</td>\n",
       "      <td>0.0</td>\n",
       "      <td>0</td>\n",
       "      <td>0</td>\n",
       "    </tr>\n",
       "  </tbody>\n",
       "</table>\n",
       "</div>"
      ],
      "text/plain": [
       "   step      type    amount     nameOrig  oldbalanceOrg  newbalanceOrig  \\\n",
       "0     1   PAYMENT   9839.64  C1231006815       170136.0       160296.36   \n",
       "1     1   PAYMENT   1864.28  C1666544295        21249.0        19384.72   \n",
       "2     1  TRANSFER    181.00  C1305486145          181.0            0.00   \n",
       "3     1  CASH_OUT    181.00   C840083671          181.0            0.00   \n",
       "4     1   PAYMENT  11668.14  C2048537720        41554.0        29885.86   \n",
       "\n",
       "      nameDest  oldbalanceDest  newbalanceDest  isFraud  isFlaggedFraud  \n",
       "0  M1979787155             0.0             0.0        0               0  \n",
       "1  M2044282225             0.0             0.0        0               0  \n",
       "2   C553264065             0.0             0.0        1               0  \n",
       "3    C38997010         21182.0             0.0        1               0  \n",
       "4  M1230701703             0.0             0.0        0               0  "
      ]
     },
     "execution_count": 2,
     "metadata": {},
     "output_type": "execute_result"
    }
   ],
   "source": [
    "# delimter perticular this code is used to remove extra spaces from the each and evey value of the data.\n",
    "df1 = pd.read_csv(r\"C:\\Users\\dell\\Downloads\\Fraud.csv\")\n",
    "df1.head()"
   ]
  },
  {
   "cell_type": "code",
   "execution_count": 3,
   "id": "d92be0a8",
   "metadata": {},
   "outputs": [
    {
     "data": {
      "text/plain": [
       "['step',\n",
       " 'type',\n",
       " 'amount',\n",
       " 'nameOrig',\n",
       " 'oldbalanceOrg',\n",
       " 'newbalanceOrig',\n",
       " 'nameDest',\n",
       " 'oldbalanceDest',\n",
       " 'newbalanceDest',\n",
       " 'isFraud',\n",
       " 'isFlaggedFraud']"
      ]
     },
     "execution_count": 3,
     "metadata": {},
     "output_type": "execute_result"
    }
   ],
   "source": [
    "cols = list(df1.columns)\n",
    "cols"
   ]
  },
  {
   "cell_type": "markdown",
   "id": "798dae4b",
   "metadata": {},
   "source": [
    "# Rearranged the column based on X and Y variable"
   ]
  },
  {
   "cell_type": "code",
   "execution_count": 4,
   "id": "2ee1aa0f",
   "metadata": {
    "scrolled": true
   },
   "outputs": [
    {
     "data": {
      "text/html": [
       "<div>\n",
       "<style scoped>\n",
       "    .dataframe tbody tr th:only-of-type {\n",
       "        vertical-align: middle;\n",
       "    }\n",
       "\n",
       "    .dataframe tbody tr th {\n",
       "        vertical-align: top;\n",
       "    }\n",
       "\n",
       "    .dataframe thead th {\n",
       "        text-align: right;\n",
       "    }\n",
       "</style>\n",
       "<table border=\"1\" class=\"dataframe\">\n",
       "  <thead>\n",
       "    <tr style=\"text-align: right;\">\n",
       "      <th></th>\n",
       "      <th>step</th>\n",
       "      <th>type</th>\n",
       "      <th>amount</th>\n",
       "      <th>nameOrig</th>\n",
       "      <th>oldbalanceOrg</th>\n",
       "      <th>newbalanceOrig</th>\n",
       "      <th>nameDest</th>\n",
       "      <th>oldbalanceDest</th>\n",
       "      <th>newbalanceDest</th>\n",
       "      <th>isFlaggedFraud</th>\n",
       "      <th>isFraud</th>\n",
       "    </tr>\n",
       "  </thead>\n",
       "  <tbody>\n",
       "    <tr>\n",
       "      <th>0</th>\n",
       "      <td>1</td>\n",
       "      <td>PAYMENT</td>\n",
       "      <td>9839.64</td>\n",
       "      <td>C1231006815</td>\n",
       "      <td>170136.0</td>\n",
       "      <td>160296.36</td>\n",
       "      <td>M1979787155</td>\n",
       "      <td>0.0</td>\n",
       "      <td>0.0</td>\n",
       "      <td>0</td>\n",
       "      <td>0</td>\n",
       "    </tr>\n",
       "    <tr>\n",
       "      <th>1</th>\n",
       "      <td>1</td>\n",
       "      <td>PAYMENT</td>\n",
       "      <td>1864.28</td>\n",
       "      <td>C1666544295</td>\n",
       "      <td>21249.0</td>\n",
       "      <td>19384.72</td>\n",
       "      <td>M2044282225</td>\n",
       "      <td>0.0</td>\n",
       "      <td>0.0</td>\n",
       "      <td>0</td>\n",
       "      <td>0</td>\n",
       "    </tr>\n",
       "    <tr>\n",
       "      <th>2</th>\n",
       "      <td>1</td>\n",
       "      <td>TRANSFER</td>\n",
       "      <td>181.00</td>\n",
       "      <td>C1305486145</td>\n",
       "      <td>181.0</td>\n",
       "      <td>0.00</td>\n",
       "      <td>C553264065</td>\n",
       "      <td>0.0</td>\n",
       "      <td>0.0</td>\n",
       "      <td>0</td>\n",
       "      <td>1</td>\n",
       "    </tr>\n",
       "    <tr>\n",
       "      <th>3</th>\n",
       "      <td>1</td>\n",
       "      <td>CASH_OUT</td>\n",
       "      <td>181.00</td>\n",
       "      <td>C840083671</td>\n",
       "      <td>181.0</td>\n",
       "      <td>0.00</td>\n",
       "      <td>C38997010</td>\n",
       "      <td>21182.0</td>\n",
       "      <td>0.0</td>\n",
       "      <td>0</td>\n",
       "      <td>1</td>\n",
       "    </tr>\n",
       "    <tr>\n",
       "      <th>4</th>\n",
       "      <td>1</td>\n",
       "      <td>PAYMENT</td>\n",
       "      <td>11668.14</td>\n",
       "      <td>C2048537720</td>\n",
       "      <td>41554.0</td>\n",
       "      <td>29885.86</td>\n",
       "      <td>M1230701703</td>\n",
       "      <td>0.0</td>\n",
       "      <td>0.0</td>\n",
       "      <td>0</td>\n",
       "      <td>0</td>\n",
       "    </tr>\n",
       "  </tbody>\n",
       "</table>\n",
       "</div>"
      ],
      "text/plain": [
       "   step      type    amount     nameOrig  oldbalanceOrg  newbalanceOrig  \\\n",
       "0     1   PAYMENT   9839.64  C1231006815       170136.0       160296.36   \n",
       "1     1   PAYMENT   1864.28  C1666544295        21249.0        19384.72   \n",
       "2     1  TRANSFER    181.00  C1305486145          181.0            0.00   \n",
       "3     1  CASH_OUT    181.00   C840083671          181.0            0.00   \n",
       "4     1   PAYMENT  11668.14  C2048537720        41554.0        29885.86   \n",
       "\n",
       "      nameDest  oldbalanceDest  newbalanceDest  isFlaggedFraud  isFraud  \n",
       "0  M1979787155             0.0             0.0               0        0  \n",
       "1  M2044282225             0.0             0.0               0        0  \n",
       "2   C553264065             0.0             0.0               0        1  \n",
       "3    C38997010         21182.0             0.0               0        1  \n",
       "4  M1230701703             0.0             0.0               0        0  "
      ]
     },
     "execution_count": 4,
     "metadata": {},
     "output_type": "execute_result"
    }
   ],
   "source": [
    "cols = list(df1.columns)\n",
    "\n",
    "\n",
    "last_col = cols.pop(-1)  # Removing the last column name\n",
    "cols.insert(-1, last_col)  # Inserting the last column name at the second last position\n",
    "\n",
    "# Reordering the DataFrame columns\n",
    "df1 = df1[cols]\n",
    "\n",
    "df1.head()"
   ]
  },
  {
   "cell_type": "code",
   "execution_count": 5,
   "id": "f588aff5",
   "metadata": {},
   "outputs": [
    {
     "data": {
      "text/plain": [
       "(6362620, 11)"
      ]
     },
     "execution_count": 5,
     "metadata": {},
     "output_type": "execute_result"
    }
   ],
   "source": [
    "df1.shape"
   ]
  },
  {
   "cell_type": "markdown",
   "id": "0e9a1ae6",
   "metadata": {},
   "source": [
    "# Created a copy of the dataframe ( for Pre - processing)\n",
    "- So that orignal data will not get affected"
   ]
  },
  {
   "cell_type": "code",
   "execution_count": 6,
   "id": "1cb66b99",
   "metadata": {},
   "outputs": [],
   "source": [
    "df2 = pd.DataFrame.copy(df1)"
   ]
  },
  {
   "cell_type": "markdown",
   "id": "5a171e5c",
   "metadata": {},
   "source": [
    "# Droping columns (feature selection)\n",
    "- Droping \"Step\" column because its only number series which will not affect the model performance or prediction\n",
    "- Droping \"nameOrig\" and \"nameDest\" because it contain unique value like some kind of ID which will not also not affect the model performance or prediction"
   ]
  },
  {
   "cell_type": "code",
   "execution_count": 7,
   "id": "3c20bca1",
   "metadata": {},
   "outputs": [],
   "source": [
    "df2.drop([\"nameDest\",\"step\",\"nameOrig\"],axis=1, inplace = True)"
   ]
  },
  {
   "cell_type": "code",
   "execution_count": 8,
   "id": "7bc3dd33",
   "metadata": {
    "scrolled": true
   },
   "outputs": [
    {
     "data": {
      "text/html": [
       "<div>\n",
       "<style scoped>\n",
       "    .dataframe tbody tr th:only-of-type {\n",
       "        vertical-align: middle;\n",
       "    }\n",
       "\n",
       "    .dataframe tbody tr th {\n",
       "        vertical-align: top;\n",
       "    }\n",
       "\n",
       "    .dataframe thead th {\n",
       "        text-align: right;\n",
       "    }\n",
       "</style>\n",
       "<table border=\"1\" class=\"dataframe\">\n",
       "  <thead>\n",
       "    <tr style=\"text-align: right;\">\n",
       "      <th></th>\n",
       "      <th>type</th>\n",
       "      <th>amount</th>\n",
       "      <th>oldbalanceOrg</th>\n",
       "      <th>newbalanceOrig</th>\n",
       "      <th>oldbalanceDest</th>\n",
       "      <th>newbalanceDest</th>\n",
       "      <th>isFlaggedFraud</th>\n",
       "      <th>isFraud</th>\n",
       "    </tr>\n",
       "  </thead>\n",
       "  <tbody>\n",
       "    <tr>\n",
       "      <th>0</th>\n",
       "      <td>PAYMENT</td>\n",
       "      <td>9839.64</td>\n",
       "      <td>170136.0</td>\n",
       "      <td>160296.36</td>\n",
       "      <td>0.0</td>\n",
       "      <td>0.0</td>\n",
       "      <td>0</td>\n",
       "      <td>0</td>\n",
       "    </tr>\n",
       "    <tr>\n",
       "      <th>1</th>\n",
       "      <td>PAYMENT</td>\n",
       "      <td>1864.28</td>\n",
       "      <td>21249.0</td>\n",
       "      <td>19384.72</td>\n",
       "      <td>0.0</td>\n",
       "      <td>0.0</td>\n",
       "      <td>0</td>\n",
       "      <td>0</td>\n",
       "    </tr>\n",
       "    <tr>\n",
       "      <th>2</th>\n",
       "      <td>TRANSFER</td>\n",
       "      <td>181.00</td>\n",
       "      <td>181.0</td>\n",
       "      <td>0.00</td>\n",
       "      <td>0.0</td>\n",
       "      <td>0.0</td>\n",
       "      <td>0</td>\n",
       "      <td>1</td>\n",
       "    </tr>\n",
       "    <tr>\n",
       "      <th>3</th>\n",
       "      <td>CASH_OUT</td>\n",
       "      <td>181.00</td>\n",
       "      <td>181.0</td>\n",
       "      <td>0.00</td>\n",
       "      <td>21182.0</td>\n",
       "      <td>0.0</td>\n",
       "      <td>0</td>\n",
       "      <td>1</td>\n",
       "    </tr>\n",
       "    <tr>\n",
       "      <th>4</th>\n",
       "      <td>PAYMENT</td>\n",
       "      <td>11668.14</td>\n",
       "      <td>41554.0</td>\n",
       "      <td>29885.86</td>\n",
       "      <td>0.0</td>\n",
       "      <td>0.0</td>\n",
       "      <td>0</td>\n",
       "      <td>0</td>\n",
       "    </tr>\n",
       "  </tbody>\n",
       "</table>\n",
       "</div>"
      ],
      "text/plain": [
       "       type    amount  oldbalanceOrg  newbalanceOrig  oldbalanceDest  \\\n",
       "0   PAYMENT   9839.64       170136.0       160296.36             0.0   \n",
       "1   PAYMENT   1864.28        21249.0        19384.72             0.0   \n",
       "2  TRANSFER    181.00          181.0            0.00             0.0   \n",
       "3  CASH_OUT    181.00          181.0            0.00         21182.0   \n",
       "4   PAYMENT  11668.14        41554.0        29885.86             0.0   \n",
       "\n",
       "   newbalanceDest  isFlaggedFraud  isFraud  \n",
       "0             0.0               0        0  \n",
       "1             0.0               0        0  \n",
       "2             0.0               0        1  \n",
       "3             0.0               0        1  \n",
       "4             0.0               0        0  "
      ]
     },
     "execution_count": 8,
     "metadata": {},
     "output_type": "execute_result"
    }
   ],
   "source": [
    "df2.head()"
   ]
  },
  {
   "cell_type": "markdown",
   "id": "79af10e0",
   "metadata": {},
   "source": [
    "# Some basic checks "
   ]
  },
  {
   "cell_type": "code",
   "execution_count": 9,
   "id": "22d6d16b",
   "metadata": {},
   "outputs": [
    {
     "data": {
      "text/plain": [
       "(6362620, 8)"
      ]
     },
     "execution_count": 9,
     "metadata": {},
     "output_type": "execute_result"
    }
   ],
   "source": [
    "df2.shape"
   ]
  },
  {
   "cell_type": "code",
   "execution_count": 10,
   "id": "4d680ce8",
   "metadata": {},
   "outputs": [
    {
     "name": "stdout",
     "output_type": "stream",
     "text": [
      "<class 'pandas.core.frame.DataFrame'>\n",
      "RangeIndex: 6362620 entries, 0 to 6362619\n",
      "Data columns (total 8 columns):\n",
      " #   Column          Dtype  \n",
      "---  ------          -----  \n",
      " 0   type            object \n",
      " 1   amount          float64\n",
      " 2   oldbalanceOrg   float64\n",
      " 3   newbalanceOrig  float64\n",
      " 4   oldbalanceDest  float64\n",
      " 5   newbalanceDest  float64\n",
      " 6   isFlaggedFraud  int64  \n",
      " 7   isFraud         int64  \n",
      "dtypes: float64(5), int64(2), object(1)\n",
      "memory usage: 388.3+ MB\n"
     ]
    }
   ],
   "source": [
    "df2.info()"
   ]
  },
  {
   "cell_type": "code",
   "execution_count": 11,
   "id": "79e17354",
   "metadata": {},
   "outputs": [
    {
     "data": {
      "text/plain": [
       "(6362620, 8)"
      ]
     },
     "execution_count": 11,
     "metadata": {},
     "output_type": "execute_result"
    }
   ],
   "source": [
    "df2.shape"
   ]
  },
  {
   "cell_type": "markdown",
   "id": "bd351c39",
   "metadata": {},
   "source": [
    "# Duplicate :- 97880 found to be duplicate entry. \n",
    "- Droping those duplicate because even if its a valid duplicate entry, i mean same person can do same type and amount of transaction multiple times but i consider them droping because duplicate entries wont affect my model prediction. intsted it will make it time consuming and will consume more memory space."
   ]
  },
  {
   "cell_type": "code",
   "execution_count": 12,
   "id": "7d5cff4d",
   "metadata": {},
   "outputs": [
    {
     "data": {
      "text/plain": [
       "97880"
      ]
     },
     "execution_count": 12,
     "metadata": {},
     "output_type": "execute_result"
    }
   ],
   "source": [
    "df2.duplicated().sum()"
   ]
  },
  {
   "cell_type": "code",
   "execution_count": 13,
   "id": "034d84c0",
   "metadata": {},
   "outputs": [
    {
     "name": "stdout",
     "output_type": "stream",
     "text": [
      "(6264740, 8)\n"
     ]
    }
   ],
   "source": [
    "df2.drop_duplicates(inplace = True)\n",
    "print(df2.shape)"
   ]
  },
  {
   "cell_type": "code",
   "execution_count": 14,
   "id": "da92fdea",
   "metadata": {},
   "outputs": [
    {
     "data": {
      "text/plain": [
       "type\n",
       "CASH_OUT    2237441\n",
       "PAYMENT     2053676\n",
       "CASH_IN     1399284\n",
       "TRANSFER     532907\n",
       "DEBIT         41432\n",
       "Name: count, dtype: int64"
      ]
     },
     "execution_count": 14,
     "metadata": {},
     "output_type": "execute_result"
    }
   ],
   "source": [
    "df2.type.value_counts()"
   ]
  },
  {
   "cell_type": "markdown",
   "id": "15cb478e",
   "metadata": {},
   "source": [
    "# Here, i noticed some intresting point that only when the transaction type is \"CASH_OUT\" or \"TRANSFER\". there is a chance of Fraud."
   ]
  },
  {
   "cell_type": "markdown",
   "id": "0083e6ae",
   "metadata": {
    "scrolled": true
   },
   "source": [
    "## df2.groupby(\"type\")[\"isFraud\"].value_counts()"
   ]
  },
  {
   "cell_type": "markdown",
   "id": "42bcc234",
   "metadata": {},
   "source": [
    "# So, for our further evaluation ill be using only those records where transaction type is \"CASH_OUT\" or \"TRANSFER\".\n",
    "- For better accuracy or prediction"
   ]
  },
  {
   "cell_type": "code",
   "execution_count": 15,
   "id": "15cd39a0",
   "metadata": {},
   "outputs": [
    {
     "data": {
      "text/html": [
       "<div>\n",
       "<style scoped>\n",
       "    .dataframe tbody tr th:only-of-type {\n",
       "        vertical-align: middle;\n",
       "    }\n",
       "\n",
       "    .dataframe tbody tr th {\n",
       "        vertical-align: top;\n",
       "    }\n",
       "\n",
       "    .dataframe thead th {\n",
       "        text-align: right;\n",
       "    }\n",
       "</style>\n",
       "<table border=\"1\" class=\"dataframe\">\n",
       "  <thead>\n",
       "    <tr style=\"text-align: right;\">\n",
       "      <th></th>\n",
       "      <th>type</th>\n",
       "      <th>amount</th>\n",
       "      <th>oldbalanceOrg</th>\n",
       "      <th>newbalanceOrig</th>\n",
       "      <th>oldbalanceDest</th>\n",
       "      <th>newbalanceDest</th>\n",
       "      <th>isFlaggedFraud</th>\n",
       "      <th>isFraud</th>\n",
       "    </tr>\n",
       "  </thead>\n",
       "  <tbody>\n",
       "    <tr>\n",
       "      <th>2</th>\n",
       "      <td>TRANSFER</td>\n",
       "      <td>181.00</td>\n",
       "      <td>181.0</td>\n",
       "      <td>0.0</td>\n",
       "      <td>0.0</td>\n",
       "      <td>0.00</td>\n",
       "      <td>0</td>\n",
       "      <td>1</td>\n",
       "    </tr>\n",
       "    <tr>\n",
       "      <th>3</th>\n",
       "      <td>CASH_OUT</td>\n",
       "      <td>181.00</td>\n",
       "      <td>181.0</td>\n",
       "      <td>0.0</td>\n",
       "      <td>21182.0</td>\n",
       "      <td>0.00</td>\n",
       "      <td>0</td>\n",
       "      <td>1</td>\n",
       "    </tr>\n",
       "    <tr>\n",
       "      <th>15</th>\n",
       "      <td>CASH_OUT</td>\n",
       "      <td>229133.94</td>\n",
       "      <td>15325.0</td>\n",
       "      <td>0.0</td>\n",
       "      <td>5083.0</td>\n",
       "      <td>51513.44</td>\n",
       "      <td>0</td>\n",
       "      <td>0</td>\n",
       "    </tr>\n",
       "    <tr>\n",
       "      <th>19</th>\n",
       "      <td>TRANSFER</td>\n",
       "      <td>215310.30</td>\n",
       "      <td>705.0</td>\n",
       "      <td>0.0</td>\n",
       "      <td>22425.0</td>\n",
       "      <td>0.00</td>\n",
       "      <td>0</td>\n",
       "      <td>0</td>\n",
       "    </tr>\n",
       "    <tr>\n",
       "      <th>24</th>\n",
       "      <td>TRANSFER</td>\n",
       "      <td>311685.89</td>\n",
       "      <td>10835.0</td>\n",
       "      <td>0.0</td>\n",
       "      <td>6267.0</td>\n",
       "      <td>2719172.89</td>\n",
       "      <td>0</td>\n",
       "      <td>0</td>\n",
       "    </tr>\n",
       "  </tbody>\n",
       "</table>\n",
       "</div>"
      ],
      "text/plain": [
       "        type     amount  oldbalanceOrg  newbalanceOrig  oldbalanceDest  \\\n",
       "2   TRANSFER     181.00          181.0             0.0             0.0   \n",
       "3   CASH_OUT     181.00          181.0             0.0         21182.0   \n",
       "15  CASH_OUT  229133.94        15325.0             0.0          5083.0   \n",
       "19  TRANSFER  215310.30          705.0             0.0         22425.0   \n",
       "24  TRANSFER  311685.89        10835.0             0.0          6267.0   \n",
       "\n",
       "    newbalanceDest  isFlaggedFraud  isFraud  \n",
       "2             0.00               0        1  \n",
       "3             0.00               0        1  \n",
       "15        51513.44               0        0  \n",
       "19            0.00               0        0  \n",
       "24      2719172.89               0        0  "
      ]
     },
     "execution_count": 15,
     "metadata": {},
     "output_type": "execute_result"
    }
   ],
   "source": [
    "df = df2[df2['type'].isin(['CASH_OUT', 'TRANSFER'])]\n",
    "df.head()"
   ]
  },
  {
   "cell_type": "markdown",
   "id": "97bc6394",
   "metadata": {},
   "source": [
    "# Outliers detection"
   ]
  },
  {
   "cell_type": "code",
   "execution_count": 16,
   "id": "9d52ca55",
   "metadata": {},
   "outputs": [
    {
     "data": {
      "image/png": "[encoded data removed]",
      "text/plain": [
       "<Figure size 640x480 with 1 Axes>"
      ]
     },
     "metadata": {},
     "output_type": "display_data"
    },
    {
     "data": {
      "image/png": "[encoded data removed]",
      "text/plain": [
       "<Figure size 640x480 with 1 Axes>"
      ]
     },
     "metadata": {},
     "output_type": "display_data"
    },
    {
     "data": {
      "image/png": "[encoded data removed]",
      "text/plain": [
       "<Figure size 640x480 with 1 Axes>"
      ]
     },
     "metadata": {},
     "output_type": "display_data"
    },
    {
     "data": {
      "image/png": "[encoded data removed]",
      "text/plain": [
       "<Figure size 640x480 with 1 Axes>"
      ]
     },
     "metadata": {},
     "output_type": "display_data"
    },
    {
     "data": {
      "image/png": "[encoded data removed]",
      "text/plain": [
       "<Figure size 640x480 with 1 Axes>"
      ]
     },
     "metadata": {},
     "output_type": "display_data"
    },
    {
     "data": {
      "image/png": "[encoded data removed]",
      "text/plain": [
       "<Figure size 640x480 with 1 Axes>"
      ]
     },
     "metadata": {},
     "output_type": "display_data"
    },
    {
     "data": {
      "image/png": "[encoded data removed]",
      "text/plain": [
       "<Figure size 640x480 with 1 Axes>"
      ]
     },
     "metadata": {},
     "output_type": "display_data"
    }
   ],
   "source": [
    "for i in df.columns:\n",
    "    if df[i].dtype == 'int64' or df[i].dtype == 'float64':\n",
    "        df.boxplot(column = i)\n",
    "        plt.show()"
   ]
  },
  {
   "cell_type": "code",
   "execution_count": 17,
   "id": "d30b3e0e",
   "metadata": {},
   "outputs": [],
   "source": [
    "# Only one True outlier detected rest of them are valid values(outliers). below is the code to drop the outlier"
   ]
  },
  {
   "cell_type": "code",
   "execution_count": 18,
   "id": "1c0f4274",
   "metadata": {},
   "outputs": [],
   "source": [
    "df[df[\"amount\"] >= 80000000]\n",
    "df.drop(df[df[\"amount\"] >= 80000000].index,axis=0,inplace = True)"
   ]
  },
  {
   "cell_type": "markdown",
   "id": "32de00a4",
   "metadata": {},
   "source": [
    "# Just checking with the available data that how many were markedFraud and where it was actully Fraud or not"
   ]
  },
  {
   "cell_type": "code",
   "execution_count": 19,
   "id": "4dce7047",
   "metadata": {
    "scrolled": true
   },
   "outputs": [
    {
     "data": {
      "text/plain": [
       "isFlaggedFraud  isFraud\n",
       "0               0          2762195\n",
       "                1             8136\n",
       "1               1               16\n",
       "Name: count, dtype: int64"
      ]
     },
     "execution_count": 19,
     "metadata": {},
     "output_type": "execute_result"
    }
   ],
   "source": [
    "df.groupby(\"isFlaggedFraud\")[\"isFraud\"].value_counts()"
   ]
  },
  {
   "cell_type": "code",
   "execution_count": 20,
   "id": "412c1f5c",
   "metadata": {},
   "outputs": [
    {
     "data": {
      "text/html": [
       "<div>\n",
       "<style scoped>\n",
       "    .dataframe tbody tr th:only-of-type {\n",
       "        vertical-align: middle;\n",
       "    }\n",
       "\n",
       "    .dataframe tbody tr th {\n",
       "        vertical-align: top;\n",
       "    }\n",
       "\n",
       "    .dataframe thead th {\n",
       "        text-align: right;\n",
       "    }\n",
       "</style>\n",
       "<table border=\"1\" class=\"dataframe\">\n",
       "  <thead>\n",
       "    <tr style=\"text-align: right;\">\n",
       "      <th></th>\n",
       "      <th>type</th>\n",
       "      <th>amount</th>\n",
       "      <th>oldbalanceOrg</th>\n",
       "      <th>newbalanceOrig</th>\n",
       "      <th>oldbalanceDest</th>\n",
       "      <th>newbalanceDest</th>\n",
       "      <th>isFlaggedFraud</th>\n",
       "      <th>isFraud</th>\n",
       "    </tr>\n",
       "  </thead>\n",
       "  <tbody>\n",
       "    <tr>\n",
       "      <th>3</th>\n",
       "      <td>CASH_OUT</td>\n",
       "      <td>181.00</td>\n",
       "      <td>181.00</td>\n",
       "      <td>0.0</td>\n",
       "      <td>21182.00</td>\n",
       "      <td>0.00</td>\n",
       "      <td>0</td>\n",
       "      <td>1</td>\n",
       "    </tr>\n",
       "    <tr>\n",
       "      <th>15</th>\n",
       "      <td>CASH_OUT</td>\n",
       "      <td>229133.94</td>\n",
       "      <td>15325.00</td>\n",
       "      <td>0.0</td>\n",
       "      <td>5083.00</td>\n",
       "      <td>51513.44</td>\n",
       "      <td>0</td>\n",
       "      <td>0</td>\n",
       "    </tr>\n",
       "    <tr>\n",
       "      <th>42</th>\n",
       "      <td>CASH_OUT</td>\n",
       "      <td>110414.71</td>\n",
       "      <td>26845.41</td>\n",
       "      <td>0.0</td>\n",
       "      <td>288800.00</td>\n",
       "      <td>2415.16</td>\n",
       "      <td>0</td>\n",
       "      <td>0</td>\n",
       "    </tr>\n",
       "    <tr>\n",
       "      <th>47</th>\n",
       "      <td>CASH_OUT</td>\n",
       "      <td>56953.90</td>\n",
       "      <td>1942.02</td>\n",
       "      <td>0.0</td>\n",
       "      <td>70253.00</td>\n",
       "      <td>64106.18</td>\n",
       "      <td>0</td>\n",
       "      <td>0</td>\n",
       "    </tr>\n",
       "    <tr>\n",
       "      <th>48</th>\n",
       "      <td>CASH_OUT</td>\n",
       "      <td>5346.89</td>\n",
       "      <td>0.00</td>\n",
       "      <td>0.0</td>\n",
       "      <td>652637.00</td>\n",
       "      <td>6453430.91</td>\n",
       "      <td>0</td>\n",
       "      <td>0</td>\n",
       "    </tr>\n",
       "    <tr>\n",
       "      <th>...</th>\n",
       "      <td>...</td>\n",
       "      <td>...</td>\n",
       "      <td>...</td>\n",
       "      <td>...</td>\n",
       "      <td>...</td>\n",
       "      <td>...</td>\n",
       "      <td>...</td>\n",
       "      <td>...</td>\n",
       "    </tr>\n",
       "    <tr>\n",
       "      <th>6362611</th>\n",
       "      <td>CASH_OUT</td>\n",
       "      <td>63416.99</td>\n",
       "      <td>63416.99</td>\n",
       "      <td>0.0</td>\n",
       "      <td>276433.18</td>\n",
       "      <td>339850.17</td>\n",
       "      <td>0</td>\n",
       "      <td>1</td>\n",
       "    </tr>\n",
       "    <tr>\n",
       "      <th>6362613</th>\n",
       "      <td>CASH_OUT</td>\n",
       "      <td>1258818.82</td>\n",
       "      <td>1258818.82</td>\n",
       "      <td>0.0</td>\n",
       "      <td>503464.50</td>\n",
       "      <td>1762283.33</td>\n",
       "      <td>0</td>\n",
       "      <td>1</td>\n",
       "    </tr>\n",
       "    <tr>\n",
       "      <th>6362615</th>\n",
       "      <td>CASH_OUT</td>\n",
       "      <td>339682.13</td>\n",
       "      <td>339682.13</td>\n",
       "      <td>0.0</td>\n",
       "      <td>0.00</td>\n",
       "      <td>339682.13</td>\n",
       "      <td>0</td>\n",
       "      <td>1</td>\n",
       "    </tr>\n",
       "    <tr>\n",
       "      <th>6362617</th>\n",
       "      <td>CASH_OUT</td>\n",
       "      <td>6311409.28</td>\n",
       "      <td>6311409.28</td>\n",
       "      <td>0.0</td>\n",
       "      <td>68488.84</td>\n",
       "      <td>6379898.11</td>\n",
       "      <td>0</td>\n",
       "      <td>1</td>\n",
       "    </tr>\n",
       "    <tr>\n",
       "      <th>6362619</th>\n",
       "      <td>CASH_OUT</td>\n",
       "      <td>850002.52</td>\n",
       "      <td>850002.52</td>\n",
       "      <td>0.0</td>\n",
       "      <td>6510099.11</td>\n",
       "      <td>7360101.63</td>\n",
       "      <td>0</td>\n",
       "      <td>1</td>\n",
       "    </tr>\n",
       "  </tbody>\n",
       "</table>\n",
       "<p>2237441 rows × 8 columns</p>\n",
       "</div>"
      ],
      "text/plain": [
       "             type      amount  oldbalanceOrg  newbalanceOrig  oldbalanceDest  \\\n",
       "3        CASH_OUT      181.00         181.00             0.0        21182.00   \n",
       "15       CASH_OUT   229133.94       15325.00             0.0         5083.00   \n",
       "42       CASH_OUT   110414.71       26845.41             0.0       288800.00   \n",
       "47       CASH_OUT    56953.90        1942.02             0.0        70253.00   \n",
       "48       CASH_OUT     5346.89           0.00             0.0       652637.00   \n",
       "...           ...         ...            ...             ...             ...   \n",
       "6362611  CASH_OUT    63416.99       63416.99             0.0       276433.18   \n",
       "6362613  CASH_OUT  1258818.82     1258818.82             0.0       503464.50   \n",
       "6362615  CASH_OUT   339682.13      339682.13             0.0            0.00   \n",
       "6362617  CASH_OUT  6311409.28     6311409.28             0.0        68488.84   \n",
       "6362619  CASH_OUT   850002.52      850002.52             0.0      6510099.11   \n",
       "\n",
       "         newbalanceDest  isFlaggedFraud  isFraud  \n",
       "3                  0.00               0        1  \n",
       "15             51513.44               0        0  \n",
       "42              2415.16               0        0  \n",
       "47             64106.18               0        0  \n",
       "48           6453430.91               0        0  \n",
       "...                 ...             ...      ...  \n",
       "6362611       339850.17               0        1  \n",
       "6362613      1762283.33               0        1  \n",
       "6362615       339682.13               0        1  \n",
       "6362617      6379898.11               0        1  \n",
       "6362619      7360101.63               0        1  \n",
       "\n",
       "[2237441 rows x 8 columns]"
      ]
     },
     "execution_count": 20,
     "metadata": {},
     "output_type": "execute_result"
    }
   ],
   "source": [
    "df[df[\"type\"]==\"CASH_OUT\"]"
   ]
  },
  {
   "cell_type": "code",
   "execution_count": 21,
   "id": "03ee24f8",
   "metadata": {},
   "outputs": [
    {
     "data": {
      "text/plain": [
       "oldbalanceDest\n",
       "0.00           389259\n",
       "10000000.00       602\n",
       "20000000.00       219\n",
       "30000000.00        86\n",
       "40000000.00        31\n",
       "                ...  \n",
       "3279806.07          1\n",
       "992711.24           1\n",
       "162068.53           1\n",
       "496468.82           1\n",
       "6510099.11          1\n",
       "Name: count, Length: 2360851, dtype: int64"
      ]
     },
     "execution_count": 21,
     "metadata": {},
     "output_type": "execute_result"
    }
   ],
   "source": [
    "df.oldbalanceDest.value_counts()"
   ]
  },
  {
   "cell_type": "markdown",
   "id": "aa1a5608",
   "metadata": {},
   "source": [
    "# Checking for Unique values in each column"
   ]
  },
  {
   "cell_type": "code",
   "execution_count": 22,
   "id": "35f94dac",
   "metadata": {},
   "outputs": [
    {
     "name": "stdout",
     "output_type": "stream",
     "text": [
      "{'type': array(['TRANSFER', 'CASH_OUT'], dtype=object)}\n",
      "{'amount': array([1.81000000e+02, 2.29133940e+05, 2.15310300e+05, ...,\n",
      "       3.39682130e+05, 6.31140928e+06, 8.50002520e+05])}\n",
      "{'oldbalanceOrg': array([1.81000000e+02, 1.53250000e+04, 7.05000000e+02, ...,\n",
      "       3.39682130e+05, 6.31140928e+06, 8.50002520e+05])}\n",
      "{'newbalanceOrig': array([0.00000000e+00, 1.65032000e+04, 1.62075980e+05, ...,\n",
      "       2.56745479e+07, 1.56745479e+07, 5.67454789e+06])}\n",
      "{'oldbalanceDest': array([0.00000000e+00, 2.11820000e+04, 5.08300000e+03, ...,\n",
      "       5.03464500e+05, 6.84888400e+04, 6.51009911e+06])}\n",
      "{'newbalanceDest': array([      0.  ,   51513.44, 2719172.89, ...,  339682.13, 6379898.11,\n",
      "       7360101.63])}\n",
      "{'isFlaggedFraud': array([0, 1], dtype=int64)}\n",
      "{'isFraud': array([1, 0], dtype=int64)}\n"
     ]
    }
   ],
   "source": [
    "for i in df.columns:\n",
    "    print({i:df[i].unique()})"
   ]
  },
  {
   "cell_type": "markdown",
   "id": "759ae168",
   "metadata": {},
   "source": [
    "# Checking Missing / Null Values"
   ]
  },
  {
   "cell_type": "code",
   "execution_count": 23,
   "id": "6cbcf99e",
   "metadata": {},
   "outputs": [
    {
     "data": {
      "text/plain": [
       "type              0\n",
       "amount            0\n",
       "oldbalanceOrg     0\n",
       "newbalanceOrig    0\n",
       "oldbalanceDest    0\n",
       "newbalanceDest    0\n",
       "isFlaggedFraud    0\n",
       "isFraud           0\n",
       "dtype: int64"
      ]
     },
     "execution_count": 23,
     "metadata": {},
     "output_type": "execute_result"
    }
   ],
   "source": [
    "df.isnull().sum()"
   ]
  },
  {
   "cell_type": "markdown",
   "id": "5deade30",
   "metadata": {},
   "source": [
    "# Just basic check on this two column because it has a lot of value as 0."
   ]
  },
  {
   "cell_type": "code",
   "execution_count": 24,
   "id": "923bbfe3",
   "metadata": {},
   "outputs": [
    {
     "data": {
      "text/plain": [
       "oldbalanceDest\n",
       "0.00           389259\n",
       "10000000.00       602\n",
       "20000000.00       219\n",
       "30000000.00        86\n",
       "40000000.00        31\n",
       "                ...  \n",
       "3279806.07          1\n",
       "992711.24           1\n",
       "162068.53           1\n",
       "496468.82           1\n",
       "6510099.11          1\n",
       "Name: count, Length: 2360851, dtype: int64"
      ]
     },
     "execution_count": 24,
     "metadata": {},
     "output_type": "execute_result"
    }
   ],
   "source": [
    "df['oldbalanceDest'].value_counts()"
   ]
  },
  {
   "cell_type": "code",
   "execution_count": 25,
   "id": "93b7f2ec",
   "metadata": {},
   "outputs": [
    {
     "data": {
      "text/plain": [
       "newbalanceDest\n",
       "0.00           16592\n",
       "16532032.16       22\n",
       "19169204.93       21\n",
       "4743010.67        18\n",
       "7364724.84        16\n",
       "               ...  \n",
       "1062618.70         1\n",
       "1991821.27         1\n",
       "202048.56          1\n",
       "7226985.57         1\n",
       "7360101.63         1\n",
       "Name: count, Length: 2562843, dtype: int64"
      ]
     },
     "execution_count": 25,
     "metadata": {},
     "output_type": "execute_result"
    }
   ],
   "source": [
    "df['newbalanceDest'].value_counts()"
   ]
  },
  {
   "cell_type": "code",
   "execution_count": 26,
   "id": "4680aff5",
   "metadata": {},
   "outputs": [],
   "source": [
    "# df.drop([\"oldbalanceDest\",\"newbalanceDest\"],axis=1, inplace = True)"
   ]
  },
  {
   "cell_type": "markdown",
   "id": "c8b68f43",
   "metadata": {},
   "source": [
    "## Converting Categorical data into Numerical as there is only one column with only two unique value i am prefering it doing mannualy otherwise i could have used label encoding. "
   ]
  },
  {
   "cell_type": "code",
   "execution_count": 27,
   "id": "332ada64",
   "metadata": {},
   "outputs": [],
   "source": [
    "df.type.replace({\"CASH_OUT\":0,\"TRANSFER\":1}, inplace=True)"
   ]
  },
  {
   "cell_type": "code",
   "execution_count": 28,
   "id": "803e4d7e",
   "metadata": {},
   "outputs": [],
   "source": [
    "df = df.reset_index(drop=True)"
   ]
  },
  {
   "cell_type": "code",
   "execution_count": 29,
   "id": "df42ad3d",
   "metadata": {},
   "outputs": [
    {
     "data": {
      "text/html": [
       "<div>\n",
       "<style scoped>\n",
       "    .dataframe tbody tr th:only-of-type {\n",
       "        vertical-align: middle;\n",
       "    }\n",
       "\n",
       "    .dataframe tbody tr th {\n",
       "        vertical-align: top;\n",
       "    }\n",
       "\n",
       "    .dataframe thead th {\n",
       "        text-align: right;\n",
       "    }\n",
       "</style>\n",
       "<table border=\"1\" class=\"dataframe\">\n",
       "  <thead>\n",
       "    <tr style=\"text-align: right;\">\n",
       "      <th></th>\n",
       "      <th>type</th>\n",
       "      <th>amount</th>\n",
       "      <th>oldbalanceOrg</th>\n",
       "      <th>newbalanceOrig</th>\n",
       "      <th>oldbalanceDest</th>\n",
       "      <th>newbalanceDest</th>\n",
       "      <th>isFlaggedFraud</th>\n",
       "      <th>isFraud</th>\n",
       "    </tr>\n",
       "  </thead>\n",
       "  <tbody>\n",
       "    <tr>\n",
       "      <th>0</th>\n",
       "      <td>1</td>\n",
       "      <td>181.00</td>\n",
       "      <td>181.0</td>\n",
       "      <td>0.0</td>\n",
       "      <td>0.0</td>\n",
       "      <td>0.00</td>\n",
       "      <td>0</td>\n",
       "      <td>1</td>\n",
       "    </tr>\n",
       "    <tr>\n",
       "      <th>1</th>\n",
       "      <td>0</td>\n",
       "      <td>181.00</td>\n",
       "      <td>181.0</td>\n",
       "      <td>0.0</td>\n",
       "      <td>21182.0</td>\n",
       "      <td>0.00</td>\n",
       "      <td>0</td>\n",
       "      <td>1</td>\n",
       "    </tr>\n",
       "    <tr>\n",
       "      <th>2</th>\n",
       "      <td>0</td>\n",
       "      <td>229133.94</td>\n",
       "      <td>15325.0</td>\n",
       "      <td>0.0</td>\n",
       "      <td>5083.0</td>\n",
       "      <td>51513.44</td>\n",
       "      <td>0</td>\n",
       "      <td>0</td>\n",
       "    </tr>\n",
       "    <tr>\n",
       "      <th>3</th>\n",
       "      <td>1</td>\n",
       "      <td>215310.30</td>\n",
       "      <td>705.0</td>\n",
       "      <td>0.0</td>\n",
       "      <td>22425.0</td>\n",
       "      <td>0.00</td>\n",
       "      <td>0</td>\n",
       "      <td>0</td>\n",
       "    </tr>\n",
       "    <tr>\n",
       "      <th>4</th>\n",
       "      <td>1</td>\n",
       "      <td>311685.89</td>\n",
       "      <td>10835.0</td>\n",
       "      <td>0.0</td>\n",
       "      <td>6267.0</td>\n",
       "      <td>2719172.89</td>\n",
       "      <td>0</td>\n",
       "      <td>0</td>\n",
       "    </tr>\n",
       "  </tbody>\n",
       "</table>\n",
       "</div>"
      ],
      "text/plain": [
       "   type     amount  oldbalanceOrg  newbalanceOrig  oldbalanceDest  \\\n",
       "0     1     181.00          181.0             0.0             0.0   \n",
       "1     0     181.00          181.0             0.0         21182.0   \n",
       "2     0  229133.94        15325.0             0.0          5083.0   \n",
       "3     1  215310.30          705.0             0.0         22425.0   \n",
       "4     1  311685.89        10835.0             0.0          6267.0   \n",
       "\n",
       "   newbalanceDest  isFlaggedFraud  isFraud  \n",
       "0            0.00               0        1  \n",
       "1            0.00               0        1  \n",
       "2        51513.44               0        0  \n",
       "3            0.00               0        0  \n",
       "4      2719172.89               0        0  "
      ]
     },
     "execution_count": 29,
     "metadata": {},
     "output_type": "execute_result"
    }
   ],
   "source": [
    "df.head()"
   ]
  },
  {
   "cell_type": "markdown",
   "id": "4d2d17df",
   "metadata": {},
   "source": [
    "## Below commented code block is an automated approach for Converting Categorical data into Numerical"
   ]
  },
  {
   "cell_type": "code",
   "execution_count": 30,
   "id": "cbb7b486",
   "metadata": {},
   "outputs": [
    {
     "data": {
      "text/plain": [
       "\" \\ncolname = []\\nfor x in df.columns:\\n    if df[x].dtype== 'object':\\n        colname.append(x)\\ncolname\\n\""
      ]
     },
     "execution_count": 30,
     "metadata": {},
     "output_type": "execute_result"
    }
   ],
   "source": [
    "''' \n",
    "colname = []\n",
    "for x in df.columns:\n",
    "    if df[x].dtype== 'object':\n",
    "        colname.append(x)\n",
    "colname\n",
    "'''"
   ]
  },
  {
   "cell_type": "code",
   "execution_count": 31,
   "id": "01ce2d40",
   "metadata": {},
   "outputs": [
    {
     "data": {
      "text/plain": [
       "'\\n# For preprocessing the data\\n# fit will create a dict with lables and transform will replace the value with lables\\nfrom sklearn.preprocessing import LabelEncoder\\n \\nle=LabelEncoder()\\n\\nfor x in colname:\\n    df[x]=le.fit_transform(df[x])\\n    \\n'"
      ]
     },
     "execution_count": 31,
     "metadata": {},
     "output_type": "execute_result"
    }
   ],
   "source": [
    "'''\n",
    "# For preprocessing the data\n",
    "# fit will create a dict with lables and transform will replace the value with lables\n",
    "from sklearn.preprocessing import LabelEncoder\n",
    " \n",
    "le=LabelEncoder()\n",
    "\n",
    "for x in colname:\n",
    "    df[x]=le.fit_transform(df[x])\n",
    "    \n",
    "'''"
   ]
  },
  {
   "cell_type": "code",
   "execution_count": 32,
   "id": "2f02b964",
   "metadata": {
    "scrolled": true
   },
   "outputs": [
    {
     "data": {
      "text/html": [
       "<div>\n",
       "<style scoped>\n",
       "    .dataframe tbody tr th:only-of-type {\n",
       "        vertical-align: middle;\n",
       "    }\n",
       "\n",
       "    .dataframe tbody tr th {\n",
       "        vertical-align: top;\n",
       "    }\n",
       "\n",
       "    .dataframe thead th {\n",
       "        text-align: right;\n",
       "    }\n",
       "</style>\n",
       "<table border=\"1\" class=\"dataframe\">\n",
       "  <thead>\n",
       "    <tr style=\"text-align: right;\">\n",
       "      <th></th>\n",
       "      <th>type</th>\n",
       "      <th>amount</th>\n",
       "      <th>oldbalanceOrg</th>\n",
       "      <th>newbalanceOrig</th>\n",
       "      <th>oldbalanceDest</th>\n",
       "      <th>newbalanceDest</th>\n",
       "      <th>isFlaggedFraud</th>\n",
       "      <th>isFraud</th>\n",
       "    </tr>\n",
       "  </thead>\n",
       "  <tbody>\n",
       "    <tr>\n",
       "      <th>0</th>\n",
       "      <td>1</td>\n",
       "      <td>181.00</td>\n",
       "      <td>181.0</td>\n",
       "      <td>0.0</td>\n",
       "      <td>0.0</td>\n",
       "      <td>0.00</td>\n",
       "      <td>0</td>\n",
       "      <td>1</td>\n",
       "    </tr>\n",
       "    <tr>\n",
       "      <th>1</th>\n",
       "      <td>0</td>\n",
       "      <td>181.00</td>\n",
       "      <td>181.0</td>\n",
       "      <td>0.0</td>\n",
       "      <td>21182.0</td>\n",
       "      <td>0.00</td>\n",
       "      <td>0</td>\n",
       "      <td>1</td>\n",
       "    </tr>\n",
       "    <tr>\n",
       "      <th>2</th>\n",
       "      <td>0</td>\n",
       "      <td>229133.94</td>\n",
       "      <td>15325.0</td>\n",
       "      <td>0.0</td>\n",
       "      <td>5083.0</td>\n",
       "      <td>51513.44</td>\n",
       "      <td>0</td>\n",
       "      <td>0</td>\n",
       "    </tr>\n",
       "    <tr>\n",
       "      <th>3</th>\n",
       "      <td>1</td>\n",
       "      <td>215310.30</td>\n",
       "      <td>705.0</td>\n",
       "      <td>0.0</td>\n",
       "      <td>22425.0</td>\n",
       "      <td>0.00</td>\n",
       "      <td>0</td>\n",
       "      <td>0</td>\n",
       "    </tr>\n",
       "    <tr>\n",
       "      <th>4</th>\n",
       "      <td>1</td>\n",
       "      <td>311685.89</td>\n",
       "      <td>10835.0</td>\n",
       "      <td>0.0</td>\n",
       "      <td>6267.0</td>\n",
       "      <td>2719172.89</td>\n",
       "      <td>0</td>\n",
       "      <td>0</td>\n",
       "    </tr>\n",
       "  </tbody>\n",
       "</table>\n",
       "</div>"
      ],
      "text/plain": [
       "   type     amount  oldbalanceOrg  newbalanceOrig  oldbalanceDest  \\\n",
       "0     1     181.00          181.0             0.0             0.0   \n",
       "1     0     181.00          181.0             0.0         21182.0   \n",
       "2     0  229133.94        15325.0             0.0          5083.0   \n",
       "3     1  215310.30          705.0             0.0         22425.0   \n",
       "4     1  311685.89        10835.0             0.0          6267.0   \n",
       "\n",
       "   newbalanceDest  isFlaggedFraud  isFraud  \n",
       "0            0.00               0        1  \n",
       "1            0.00               0        1  \n",
       "2        51513.44               0        0  \n",
       "3            0.00               0        0  \n",
       "4      2719172.89               0        0  "
      ]
     },
     "execution_count": 32,
     "metadata": {},
     "output_type": "execute_result"
    }
   ],
   "source": [
    "df.head()"
   ]
  },
  {
   "cell_type": "markdown",
   "id": "f4042b9e",
   "metadata": {},
   "source": [
    "# Basic check before building model"
   ]
  },
  {
   "cell_type": "code",
   "execution_count": 33,
   "id": "e6bfe66a",
   "metadata": {},
   "outputs": [
    {
     "data": {
      "text/plain": [
       "type                int64\n",
       "amount            float64\n",
       "oldbalanceOrg     float64\n",
       "newbalanceOrig    float64\n",
       "oldbalanceDest    float64\n",
       "newbalanceDest    float64\n",
       "isFlaggedFraud      int64\n",
       "isFraud             int64\n",
       "dtype: object"
      ]
     },
     "execution_count": 33,
     "metadata": {},
     "output_type": "execute_result"
    }
   ],
   "source": [
    "df.dtypes"
   ]
  },
  {
   "cell_type": "code",
   "execution_count": 34,
   "id": "43fee3d5",
   "metadata": {},
   "outputs": [],
   "source": [
    "df = df.astype(int)"
   ]
  },
  {
   "cell_type": "code",
   "execution_count": 35,
   "id": "d7da7fa6",
   "metadata": {},
   "outputs": [
    {
     "data": {
      "text/plain": [
       "type              int32\n",
       "amount            int32\n",
       "oldbalanceOrg     int32\n",
       "newbalanceOrig    int32\n",
       "oldbalanceDest    int32\n",
       "newbalanceDest    int32\n",
       "isFlaggedFraud    int32\n",
       "isFraud           int32\n",
       "dtype: object"
      ]
     },
     "execution_count": 35,
     "metadata": {},
     "output_type": "execute_result"
    }
   ],
   "source": [
    "df.dtypes"
   ]
  },
  {
   "cell_type": "markdown",
   "id": "1947af17",
   "metadata": {},
   "source": [
    "## Cheking Multicollinearity, beacuse it was mentioned on task details otherwise in case of classification Multicollinearity will not affect the model performance and Predcition. And in this case Multicollinearity variable holds some important aspects while detecting Fraud and else only domain expert and Client can help with whether to deal with those variable or not."
   ]
  },
  {
   "cell_type": "code",
   "execution_count": 36,
   "id": "fa21dde7",
   "metadata": {},
   "outputs": [],
   "source": [
    "# creating X and Y for Multicollinearity\n",
    "X = df.iloc[:,0:-1]\n",
    "Y = df.iloc[:,-1]"
   ]
  },
  {
   "cell_type": "code",
   "execution_count": 37,
   "id": "3b1b4c5f",
   "metadata": {},
   "outputs": [
    {
     "name": "stdout",
     "output_type": "stream",
     "text": [
      "                    type    amount  oldbalanceOrg  newbalanceOrig  \\\n",
      "type            1.000000  0.327066       0.013766       -0.018727   \n",
      "amount          0.327066  1.000000       0.114327        0.018378   \n",
      "oldbalanceOrg   0.013766  0.114327       1.000000        0.790635   \n",
      "newbalanceOrig -0.018727  0.018378       0.790635        1.000000   \n",
      "oldbalanceDest  0.099791  0.308176      -0.020405       -0.012278   \n",
      "newbalanceDest  0.157041  0.497527      -0.011461       -0.015437   \n",
      "isFlaggedFraud  0.004924  0.012339       0.075420        0.123957   \n",
      "\n",
      "                oldbalanceDest  newbalanceDest  isFlaggedFraud  \n",
      "type                  0.099791        0.157041        0.004924  \n",
      "amount                0.308176        0.497527        0.012339  \n",
      "oldbalanceOrg        -0.020405       -0.011461        0.075420  \n",
      "newbalanceOrig       -0.012278       -0.015437        0.123957  \n",
      "oldbalanceDest        1.000000        0.970169       -0.000969  \n",
      "newbalanceDest        0.970169        1.000000       -0.001053  \n",
      "isFlaggedFraud       -0.000969       -0.001053        1.000000  \n"
     ]
    },
    {
     "data": {
      "image/png": "[encoded data removed]",
      "text/plain": [
       "<Figure size 640x480 with 2 Axes>"
      ]
     },
     "metadata": {},
     "output_type": "display_data"
    }
   ],
   "source": [
    "# Assumption of no multicollinearity: There should be no multicollinearity\n",
    "# between the independent variables\n",
    "# multicollinearity is the relationship amongst the multiple independent variables\n",
    "corr_df=X.corr(method = \"pearson\")\n",
    "print(corr_df)\n",
    "\n",
    "sns.heatmap(corr_df,vmax=1.0,vmin=-1.0,annot=True)\n",
    "plt.show()"
   ]
  },
  {
   "cell_type": "markdown",
   "id": "baf051b2",
   "metadata": {},
   "source": [
    "## Creating X and Y variables in this case Y is \"IsFraud\" (Dependent Variable) and X is rest of the column (IV - Indepedent Variable)"
   ]
  },
  {
   "cell_type": "code",
   "execution_count": 38,
   "id": "1dc2c6c2",
   "metadata": {},
   "outputs": [],
   "source": [
    "X = df.values[:,0:-1]   # --> 0 to -2\n",
    "Y = df.values[:,-1]"
   ]
  },
  {
   "cell_type": "code",
   "execution_count": 39,
   "id": "a92834bf",
   "metadata": {},
   "outputs": [
    {
     "name": "stdout",
     "output_type": "stream",
     "text": [
      "(2770347, 7)\n",
      "(2770347,)\n"
     ]
    }
   ],
   "source": [
    "print(X.shape)\n",
    "print(Y.shape)"
   ]
  },
  {
   "cell_type": "markdown",
   "id": "091dd866",
   "metadata": {},
   "source": [
    "## Scaling the Data for better prediction and understanding - Using Standardization - Standardscaler() because it is not affected by outliers"
   ]
  },
  {
   "cell_type": "code",
   "execution_count": 40,
   "id": "f7266dd5",
   "metadata": {},
   "outputs": [],
   "source": [
    "from sklearn.preprocessing import StandardScaler\n",
    "scaler = StandardScaler()\n",
    "scaler.fit(X)\n",
    "X = scaler.transform(X)"
   ]
  },
  {
   "cell_type": "markdown",
   "id": "caffe1b8",
   "metadata": {},
   "source": [
    "## Running a basic model"
   ]
  },
  {
   "cell_type": "code",
   "execution_count": 41,
   "id": "cf08e665",
   "metadata": {},
   "outputs": [],
   "source": [
    "from sklearn.model_selection import train_test_split\n",
    "\n",
    "# spliting the data into test and train\n",
    "X_train, X_test, Y_train, Y_test = train_test_split(X,Y, test_size = 0.3, random_state=10)\n"
   ]
  },
  {
   "cell_type": "code",
   "execution_count": 42,
   "id": "85e9adb1",
   "metadata": {},
   "outputs": [
    {
     "name": "stdout",
     "output_type": "stream",
     "text": [
      "(1939242, 7)\n",
      "(1939242,)\n",
      "(831105, 7)\n",
      "(831105,)\n",
      "Percent of train data 69.99996751309493\n"
     ]
    }
   ],
   "source": [
    "print(X_train.shape)\n",
    "print(Y_train.shape)\n",
    "print(X_test.shape)\n",
    "print(Y_test.shape)\n",
    "print(\"Percent of train data\",X_train.shape[0]/X.shape[0]*100)"
   ]
  },
  {
   "cell_type": "code",
   "execution_count": 43,
   "id": "04c588ab",
   "metadata": {},
   "outputs": [
    {
     "name": "stdout",
     "output_type": "stream",
     "text": [
      "[-15.28962777]\n",
      "[[  0.66501582 -27.12440237  10.23264635  -6.7724992   14.03889402\n",
      "  -16.9015604    0.9221742 ]]\n"
     ]
    }
   ],
   "source": [
    "from sklearn.linear_model import LogisticRegression\n",
    "# creating a model object\n",
    "classifier = LogisticRegression()\n",
    "# Training the model object\n",
    "classifier.fit(X_train, Y_train)\n",
    "\n",
    "# printing intercept and coefficient\n",
    "print(classifier.intercept_)\n",
    "print(classifier.coef_)"
   ]
  },
  {
   "cell_type": "code",
   "execution_count": 44,
   "id": "7fc7d267",
   "metadata": {},
   "outputs": [
    {
     "name": "stdout",
     "output_type": "stream",
     "text": [
      "[('type', 0.6650158172299208), ('amount', -27.124402374193235), ('oldbalanceOrg', 10.232646346585353), ('newbalanceOrig', -6.772499196570977), ('oldbalanceDest', 14.038894023466389), ('newbalanceDest', -16.90156040409434), ('isFlaggedFraud', 0.9221741952611013)]\n"
     ]
    }
   ],
   "source": [
    "print(list(zip(df.columns[0:-1], classifier.coef_.ravel())))"
   ]
  },
  {
   "cell_type": "code",
   "execution_count": 45,
   "id": "44e275ea",
   "metadata": {},
   "outputs": [
    {
     "name": "stdout",
     "output_type": "stream",
     "text": [
      "[0 0 0 ... 0 0 0]\n"
     ]
    }
   ],
   "source": [
    "# predicting using the model\n",
    "Y_pred = classifier.predict(X_test)\n",
    "print(Y_pred)"
   ]
  },
  {
   "cell_type": "markdown",
   "id": "e9afd4aa",
   "metadata": {},
   "source": [
    "## This will show how to values are being predicted in backend using Hypothesis or 0.5 as a threshold. we can change this threshold as per our requirement and priority factor"
   ]
  },
  {
   "cell_type": "code",
   "execution_count": 46,
   "id": "993293a7",
   "metadata": {},
   "outputs": [
    {
     "data": {
      "text/plain": [
       "array([[9.99999889e-01, 1.11243795e-07],\n",
       "       [9.99923168e-01, 7.68324575e-05],\n",
       "       [9.98909182e-01, 1.09081824e-03],\n",
       "       ...,\n",
       "       [9.95279103e-01, 4.72089697e-03],\n",
       "       [9.99999169e-01, 8.30962048e-07],\n",
       "       [9.99567093e-01, 4.32906771e-04]])"
      ]
     },
     "execution_count": 46,
     "metadata": {},
     "output_type": "execute_result"
    }
   ],
   "source": [
    "Y_pred_prob = classifier.predict_proba(X_test)\n",
    "Y_pred_prob"
   ]
  },
  {
   "cell_type": "markdown",
   "id": "75144af3",
   "metadata": {},
   "source": [
    "# Creating Confusion matrix"
   ]
  },
  {
   "cell_type": "markdown",
   "id": "a5620567",
   "metadata": {},
   "source": [
    "# Note :- \n",
    "- firstly when I've created this model without removing the data where \"Type\" column value is not \"CASH_OUT\" or \"TRANSFER\". which does not make any sense in this data for prediction of fraud. \n",
    "- And eairlier the confusion matrix was very poor and Type 2 error was also high (which is class of Importance). and F1 score and recall was very low for our priority class which is class 1. because its important to catch Fraud rather then identifying Non_Fraud. \n",
    "- But after lots of trial i finally understand the problem and got some better results with less error and more Accuracy"
   ]
  },
  {
   "cell_type": "code",
   "execution_count": 47,
   "id": "2d576fbd",
   "metadata": {},
   "outputs": [
    {
     "name": "stdout",
     "output_type": "stream",
     "text": [
      "[[828580    150]\n",
      " [  1309   1066]]\n",
      "Classification report: \n",
      "              precision    recall  f1-score   support\n",
      "\n",
      "           0       1.00      1.00      1.00    828730\n",
      "           1       0.88      0.45      0.59      2375\n",
      "\n",
      "    accuracy                           1.00    831105\n",
      "   macro avg       0.94      0.72      0.80    831105\n",
      "weighted avg       1.00      1.00      1.00    831105\n",
      "\n",
      "Accuracy of the model:  0.998244505808532\n"
     ]
    }
   ],
   "source": [
    "from sklearn.metrics import confusion_matrix, accuracy_score, classification_report\n",
    " \n",
    "cfm=confusion_matrix(Y_test,Y_pred)\n",
    "print(cfm)\n",
    " \n",
    "print(\"Classification report: \")\n",
    " \n",
    "print(classification_report(Y_test,Y_pred))\n",
    " \n",
    "acc=accuracy_score(Y_test, Y_pred)\n",
    "print(\"Accuracy of the model: \",acc)"
   ]
  },
  {
   "cell_type": "markdown",
   "id": "99b507b3",
   "metadata": {},
   "source": [
    "## Tuning this model by adjusting the Threshold value "
   ]
  },
  {
   "cell_type": "code",
   "execution_count": 48,
   "id": "34577ebf",
   "metadata": {},
   "outputs": [
    {
     "name": "stdout",
     "output_type": "stream",
     "text": [
      "[[9.99999889e-01 1.11243795e-07]\n",
      " [9.99923168e-01 7.68324575e-05]\n",
      " [9.98909182e-01 1.09081824e-03]\n",
      " ...\n",
      " [9.95279103e-01 4.72089697e-03]\n",
      " [9.99999169e-01 8.30962048e-07]\n",
      " [9.99567093e-01 4.32906771e-04]]\n"
     ]
    }
   ],
   "source": [
    "# store the predicted probability\n",
    "y_pred_prob = classifier.predict_proba(X_test)\n",
    "print(y_pred_prob)"
   ]
  },
  {
   "cell_type": "markdown",
   "id": "8f76108c",
   "metadata": {},
   "source": [
    "## This 0.4 threshold is considered after checking multiple threshold value and also after checking the AUC(Area Under the Curve) for the confusing or similer threshold values"
   ]
  },
  {
   "cell_type": "code",
   "execution_count": 49,
   "id": "e69987de",
   "metadata": {},
   "outputs": [],
   "source": [
    "y_pred_class=[]\n",
    "for value in y_pred_prob[:,1]:\n",
    "    if value > 0.41:\n",
    "        y_pred_class.append(1)\n",
    "    else:\n",
    "        y_pred_class.append(0)\n",
    "#print(y_pred_class)"
   ]
  },
  {
   "cell_type": "markdown",
   "id": "588584d3",
   "metadata": {},
   "source": [
    "## After changing threshold value to 0.4 both the recall by 2% and F1-score by 1% increased"
   ]
  },
  {
   "cell_type": "code",
   "execution_count": 50,
   "id": "77ca3201",
   "metadata": {},
   "outputs": [
    {
     "name": "stdout",
     "output_type": "stream",
     "text": [
      "[[828532    198]\n",
      " [  1262   1113]]\n",
      "Classification report: \n",
      "              precision    recall  f1-score   support\n",
      "\n",
      "           0       1.00      1.00      1.00    828730\n",
      "           1       0.85      0.47      0.60      2375\n",
      "\n",
      "    accuracy                           1.00    831105\n",
      "   macro avg       0.92      0.73      0.80    831105\n",
      "weighted avg       1.00      1.00      1.00    831105\n",
      "\n",
      "Accuracy of the model:  0.9982433025911287\n"
     ]
    }
   ],
   "source": [
    "from sklearn.metrics import confusion_matrix, accuracy_score, classification_report\n",
    " \n",
    "cfm=confusion_matrix(Y_test,y_pred_class)\n",
    "print(cfm)\n",
    " \n",
    "print(\"Classification report: \")\n",
    " \n",
    "print(classification_report(Y_test,y_pred_class))\n",
    " \n",
    "acc=accuracy_score(Y_test, y_pred_class)\n",
    "print(\"Accuracy of the model: \",acc)"
   ]
  },
  {
   "cell_type": "markdown",
   "id": "10b7bf9f",
   "metadata": {},
   "source": [
    "# In Logistic Regression model we got Accuracy of :- 0.9982601476347754 %"
   ]
  },
  {
   "cell_type": "markdown",
   "id": "77e33deb",
   "metadata": {},
   "source": [
    "## Below code is to check Threshold values with there total Error and Type 1, Type 2 Error"
   ]
  },
  {
   "cell_type": "code",
   "execution_count": 51,
   "id": "9833ec6f",
   "metadata": {},
   "outputs": [
    {
     "name": "stdout",
     "output_type": "stream",
     "text": [
      "Errors at threshold  0.4 : 1462  , type 2 error : 1258  , type 1 error: 204\n",
      "Errors at threshold  0.41000000000000003 : 1460  , type 2 error : 1262  , type 1 error: 198\n",
      "Errors at threshold  0.42000000000000004 : 1464  , type 2 error : 1271  , type 1 error: 193\n",
      "Errors at threshold  0.43000000000000005 : 1462  , type 2 error : 1274  , type 1 error: 188\n",
      "Errors at threshold  0.44000000000000006 : 1460  , type 2 error : 1281  , type 1 error: 179\n",
      "Errors at threshold  0.45000000000000007 : 1459  , type 2 error : 1287  , type 1 error: 172\n",
      "Errors at threshold  0.4600000000000001 : 1454  , type 2 error : 1288  , type 1 error: 166\n",
      "Errors at threshold  0.4700000000000001 : 1455  , type 2 error : 1293  , type 1 error: 162\n",
      "Errors at threshold  0.4800000000000001 : 1455  , type 2 error : 1295  , type 1 error: 160\n",
      "Errors at threshold  0.4900000000000001 : 1460  , type 2 error : 1302  , type 1 error: 158\n",
      "Errors at threshold  0.5000000000000001 : 1459  , type 2 error : 1309  , type 1 error: 150\n",
      "Errors at threshold  0.5100000000000001 : 1457  , type 2 error : 1314  , type 1 error: 143\n",
      "Errors at threshold  0.5200000000000001 : 1459  , type 2 error : 1317  , type 1 error: 142\n",
      "Errors at threshold  0.5300000000000001 : 1459  , type 2 error : 1322  , type 1 error: 137\n",
      "Errors at threshold  0.5400000000000001 : 1458  , type 2 error : 1325  , type 1 error: 133\n",
      "Errors at threshold  0.5500000000000002 : 1454  , type 2 error : 1327  , type 1 error: 127\n",
      "Errors at threshold  0.5600000000000002 : 1454  , type 2 error : 1331  , type 1 error: 123\n",
      "Errors at threshold  0.5700000000000002 : 1456  , type 2 error : 1338  , type 1 error: 118\n",
      "Errors at threshold  0.5800000000000002 : 1452  , type 2 error : 1340  , type 1 error: 112\n",
      "Errors at threshold  0.5900000000000002 : 1452  , type 2 error : 1346  , type 1 error: 106\n",
      "Errors at threshold  0.6000000000000002 : 1456  , type 2 error : 1353  , type 1 error: 103\n"
     ]
    }
   ],
   "source": [
    "for a in np.arange(0.4,0.61,0.01):\n",
    "    predict_mine = np.where(y_pred_prob[:,1] > a, 1, 0)\n",
    "    cfm=confusion_matrix(Y_test, predict_mine)\n",
    "    total_err=cfm[0,1]+cfm[1,0]\n",
    "    print(\"Errors at threshold \", a, \":\",total_err, \" , type 2 error :\", \n",
    "          cfm[1,0],\" , type 1 error:\", cfm[0,1])"
   ]
  },
  {
   "cell_type": "markdown",
   "id": "3756a220",
   "metadata": {},
   "source": [
    "# here i checked the AUC(Area Under the Curve) value for selecting the best threshold with highest AUC value."
   ]
  },
  {
   "cell_type": "code",
   "execution_count": 52,
   "id": "4829b50b",
   "metadata": {},
   "outputs": [
    {
     "name": "stdout",
     "output_type": "stream",
     "text": [
      "0.7341963295772161\n",
      "[0.00000000e+00 2.38919793e-04 1.00000000e+00]\n",
      "[0.         0.46863158 1.        ]\n"
     ]
    }
   ],
   "source": [
    "from sklearn import metrics\n",
    " \n",
    "fpr, tpr, z = metrics.roc_curve(Y_test, y_pred_class)\n",
    "auc = metrics.auc(fpr,tpr)\n",
    " \n",
    "print(auc)\n",
    "print(fpr)\n",
    "print(tpr)"
   ]
  },
  {
   "cell_type": "markdown",
   "id": "6cfec724",
   "metadata": {},
   "source": [
    "## After this i used StratifiedKFold method to check if the Accuracy score is approximatly near as StratifiedKFold method values. By applying Cross-Validation technique it also showed that the data is not overfitted or underfitted"
   ]
  },
  {
   "cell_type": "markdown",
   "id": "a763906b",
   "metadata": {},
   "source": [
    "# StratifiedKFold"
   ]
  },
  {
   "cell_type": "code",
   "execution_count": 53,
   "id": "4c4b596a",
   "metadata": {},
   "outputs": [
    {
     "name": "stdout",
     "output_type": "stream",
     "text": [
      "[0.99826737 0.99812814 0.99815907 0.99822095 0.99818486 0.99820033\n",
      " 0.99835503 0.99825705 0.9981436  0.9982983 ]\n",
      "0.9982214700627494\n"
     ]
    }
   ],
   "source": [
    "#Using cross validation\n",
    " \n",
    "classifier=LogisticRegression()\n",
    " \n",
    "#performing kfold_cross_validation\n",
    "from sklearn.model_selection import StratifiedKFold\n",
    "kfold_cv=StratifiedKFold(n_splits=10,random_state=10,shuffle=True)\n",
    "#print(kfold_cv)\n",
    " \n",
    "from sklearn.model_selection import cross_val_score\n",
    "#running the model using scoring metric as accuracy\n",
    "kfold_cv_result=cross_val_score(estimator=classifier,X=X_train,\n",
    "                                                 y=Y_train, cv=kfold_cv)\n",
    "print(kfold_cv_result)\n",
    "#finding the mean\n",
    "print(kfold_cv_result.mean())"
   ]
  },
  {
   "cell_type": "code",
   "execution_count": null,
   "id": "d4dd0c1d",
   "metadata": {},
   "outputs": [],
   "source": []
  },
  {
   "cell_type": "code",
   "execution_count": 54,
   "id": "8e3c34e4",
   "metadata": {},
   "outputs": [],
   "source": [
    "from sklearn.tree import DecisionTreeClassifier\n",
    "\n",
    "dt=DecisionTreeClassifier()\n",
    "  \n",
    "# training the model\n",
    "dt.fit(X_train, Y_train)\n",
    "  \n",
    "Y_pred = dt.predict(X_test)"
   ]
  },
  {
   "cell_type": "code",
   "execution_count": 55,
   "id": "c3a1431a",
   "metadata": {},
   "outputs": [
    {
     "name": "stdout",
     "output_type": "stream",
     "text": [
      "[[828460    270]\n",
      " [   279   2096]]\n",
      "              precision    recall  f1-score   support\n",
      "\n",
      "           0       1.00      1.00      1.00    828730\n",
      "           1       0.89      0.88      0.88      2375\n",
      "\n",
      "    accuracy                           1.00    831105\n",
      "   macro avg       0.94      0.94      0.94    831105\n",
      "weighted avg       1.00      1.00      1.00    831105\n",
      "\n",
      "0.9993394336455682\n"
     ]
    }
   ],
   "source": [
    "# classification report\n",
    "print(confusion_matrix(Y_test,Y_pred))\n",
    "print(classification_report(Y_test, Y_pred))\n",
    "print(accuracy_score(Y_test, Y_pred))"
   ]
  },
  {
   "cell_type": "code",
   "execution_count": null,
   "id": "a4c3bbe2",
   "metadata": {},
   "outputs": [],
   "source": []
  },
  {
   "cell_type": "code",
   "execution_count": null,
   "id": "9e6b36e9",
   "metadata": {},
   "outputs": [],
   "source": []
  },
  {
   "cell_type": "code",
   "execution_count": null,
   "id": "30ec9b3a",
   "metadata": {},
   "outputs": [],
   "source": []
  },
  {
   "cell_type": "markdown",
   "id": "5ab06675",
   "metadata": {},
   "source": [
    "# Decision Tree model"
   ]
  },
  {
   "cell_type": "markdown",
   "id": "7c01dca7",
   "metadata": {},
   "source": [
    "## Applying Decision Tree classifier"
   ]
  },
  {
   "cell_type": "markdown",
   "id": "af5a4be9",
   "metadata": {},
   "source": [
    "# Creating X and Y "
   ]
  },
  {
   "cell_type": "code",
   "execution_count": 56,
   "id": "163ace2b",
   "metadata": {},
   "outputs": [],
   "source": [
    "X=df.values[:,:-1]\n",
    "Y=df.values[:,-1]"
   ]
  },
  {
   "cell_type": "markdown",
   "id": "86e8c22f",
   "metadata": {},
   "source": [
    "# Scaling the data"
   ]
  },
  {
   "cell_type": "code",
   "execution_count": 57,
   "id": "5fc8a245",
   "metadata": {},
   "outputs": [],
   "source": [
    "from sklearn.preprocessing import StandardScaler\n",
    "\n",
    "scaler= StandardScaler()\n",
    "\n",
    "scaler.fit(X)\n",
    "\n",
    "X= scaler.transform(X)"
   ]
  },
  {
   "cell_type": "markdown",
   "id": "1d3a4c82",
   "metadata": {},
   "source": [
    "# Traning model"
   ]
  },
  {
   "cell_type": "code",
   "execution_count": 58,
   "id": "9cd232eb",
   "metadata": {},
   "outputs": [],
   "source": [
    "from sklearn.model_selection import train_test_split\n",
    "  \n",
    "# spliting into 70:30 ratio\n",
    "X_train, X_test, Y_train, Y_test = train_test_split(X, Y, test_size = 0.3, \n",
    "                                                    random_state = 10)"
   ]
  },
  {
   "cell_type": "markdown",
   "id": "758a82cf",
   "metadata": {},
   "source": [
    "# Applying SMOTE (Synthetic Minority Over-sampling Technique) to train the model by giving equal class of importance to both the classes. by creating a synthetic sample value(assumed values) for class 1."
   ]
  },
  {
   "cell_type": "code",
   "execution_count": 59,
   "id": "0f2cc96e",
   "metadata": {},
   "outputs": [
    {
     "name": "stdout",
     "output_type": "stream",
     "text": [
      "Before OverSampling, counts of label '1':  5777\n",
      "Before OverSampling, counts of label '0':  1933465\n",
      "After OverSampling, the shape of train_X:  (3866930, 7)\n",
      "After OverSampling, the shape of train_y:  (3866930,)\n",
      "After OverSampling, counts of label '1':  1933465\n",
      "After OverSampling, counts of label '0':  1933465\n"
     ]
    }
   ],
   "source": [
    "print(\"Before OverSampling, counts of label '1': \", (sum(Y_train == 1)))\n",
    "print(\"Before OverSampling, counts of label '0': \", (sum(Y_train == 0)))\n",
    "  \n",
    "# import SMOTE from imblearn library\n",
    "from imblearn.over_sampling import SMOTE\n",
    "sm = SMOTE(random_state = 10,k_neighbors=5)\n",
    "X_train_res, Y_train_res = sm.fit_resample(X_train, Y_train)\n",
    "  \n",
    "print('After OverSampling, the shape of train_X: ', (X_train_res.shape))\n",
    "print('After OverSampling, the shape of train_y: ', (Y_train_res.shape))\n",
    "  \n",
    "print(\"After OverSampling, counts of label '1': \", (sum(Y_train_res == 1)))\n",
    "print(\"After OverSampling, counts of label '0': \", (sum(Y_train_res == 0)))"
   ]
  },
  {
   "cell_type": "code",
   "execution_count": 60,
   "id": "82bf4d6e",
   "metadata": {},
   "outputs": [],
   "source": [
    "from sklearn.tree import DecisionTreeClassifier\n",
    "\n",
    "dt=DecisionTreeClassifier()\n",
    "  \n",
    "# training the model\n",
    "dt.fit(X_train_res, Y_train_res)\n",
    "  \n",
    "Y_pred = dt.predict(X_test)"
   ]
  },
  {
   "cell_type": "code",
   "execution_count": 61,
   "id": "d032f444",
   "metadata": {},
   "outputs": [
    {
     "name": "stdout",
     "output_type": "stream",
     "text": [
      "(831105,)\n",
      "(831105,)\n"
     ]
    }
   ],
   "source": [
    "print(Y_pred.shape)\n",
    "print(Y_test.shape)"
   ]
  },
  {
   "cell_type": "code",
   "execution_count": 62,
   "id": "bb1b37bd",
   "metadata": {},
   "outputs": [
    {
     "name": "stdout",
     "output_type": "stream",
     "text": [
      "[[827219   1511]\n",
      " [    68   2307]]\n",
      "              precision    recall  f1-score   support\n",
      "\n",
      "           0       1.00      1.00      1.00    828730\n",
      "           1       0.60      0.97      0.75      2375\n",
      "\n",
      "    accuracy                           1.00    831105\n",
      "   macro avg       0.80      0.98      0.87    831105\n",
      "weighted avg       1.00      1.00      1.00    831105\n",
      "\n",
      "0.9981001197201317\n"
     ]
    }
   ],
   "source": [
    "# classification report\n",
    "print(confusion_matrix(Y_test,Y_pred))\n",
    "print(classification_report(Y_test, Y_pred))\n",
    "print(accuracy_score(Y_test, Y_pred))"
   ]
  },
  {
   "cell_type": "code",
   "execution_count": null,
   "id": "c8ea301d",
   "metadata": {},
   "outputs": [],
   "source": []
  },
  {
   "cell_type": "code",
   "execution_count": null,
   "id": "2472d09e",
   "metadata": {},
   "outputs": [],
   "source": []
  },
  {
   "cell_type": "code",
   "execution_count": null,
   "id": "9cfcfde5",
   "metadata": {},
   "outputs": [],
   "source": []
  },
  {
   "cell_type": "code",
   "execution_count": null,
   "id": "64591e29",
   "metadata": {},
   "outputs": [],
   "source": []
  },
  {
   "cell_type": "markdown",
   "id": "7a435dc6",
   "metadata": {},
   "source": [
    "# Final Conclusion :-"
   ]
  },
  {
   "cell_type": "markdown",
   "id": "96f03c92",
   "metadata": {},
   "source": [
    "## We can use DecisionTreeClassifier() model to predict Whether the Transaction is Fraud or not Fraud. With The Accuracy Score of :- 99%\n",
    "## Because F1- score and recall value for both the classes is Good and there is no overfitting or unfitting scenerio. \n",
    "## Eairlier the model was over fitting for class 0, beacuse we had very less data or observation of class 1 ( IsFraud- class of importance ). Thats why i balanced the data for both the classes."
   ]
  },
  {
   "cell_type": "code",
   "execution_count": null,
   "id": "2de2beaf",
   "metadata": {},
   "outputs": [],
   "source": []
  },
  {
   "cell_type": "code",
   "execution_count": null,
   "id": "9d85481b",
   "metadata": {},
   "outputs": [],
   "source": []
  },
  {
   "cell_type": "markdown",
   "id": "1eece740",
   "metadata": {},
   "source": [
    "# Candidate Expectations\n",
    "### Your task is to execute the process for proactive detection of fraud while answering following\n",
    "questions.\n",
    "1. Data cleaning including missing values, outliers and multi-collinearity.\n",
    "2. Describe your fraud detection model in elaboration.\n",
    "3. How did you select variables to be included in the model?\n",
    "4. Demonstrate the performance of the model by using best set of tools.\n",
    "5. What are the key factors that predict fraudulent customer?\n",
    "6. Do these factors make sense? If yes, How? If not, How not?\n",
    "7. What kind of prevention should be adopted while company update its infrastructure?\n",
    "8. Assuming these actions have been implemented, how would you determine if they work?"
   ]
  },
  {
   "cell_type": "markdown",
   "id": "e2009d1f",
   "metadata": {},
   "source": [
    "# 1. Data cleaning including missing values, outliers and multi-collinearity.\n",
    "### Missing values\n",
    "- In this data there was no missing value as such, yes there was a perticual merchent whose values for old and new balance were missing and it was 0. but i did not handled those missing values because only client can give me clear understanding of that those missing value (why, what etc). So i cant just blindly use measure of central tendency to deal with those missing value or remove them as it will be a loss of huge data. it will become a manupulated data which we dont want.\n",
    "### Outliers - \n",
    "- There is only one actual outlier detected in Amount where the amount of transaction was to high and it was genuine(Not Fraud). Rest of them we cannot consider them as outliers as they are important as per domain knowledge and Fraud detection. So we can keep those outliers as classification model does not get affected by Outliers.\n",
    "### multi-collinearity\n",
    "- There was multi-collinearity found in 4 variiables 'oldbalanceOrg', 'newbalanceOrig', 'oldbalanceDest','newbalanceDest' but we cannot deal or remove those variable because those are valid and important for correct prediction.\n",
    "- And in this case Multicollinearity variable holds some important aspects while detecting Fraud and else only domain expert and Client can help with whether to deal with those variable or not."
   ]
  },
  {
   "cell_type": "markdown",
   "id": "cfefa118",
   "metadata": {},
   "source": [
    "# 2. Describe your fraud detection model in elaboration.\n",
    "### Problem Understanding\n",
    "- Fraud detection aims to identify fraudulent transactions from a pool of genuine transactions. The primary challenge was that fraud cases are usually rare compared to genuine cases, leading to class imbalance. my goal was to accurately classify transactions to minimize false positives (genuine transactions flagged as fraud) and false negatives (fraudulent transactions missed).\n",
    "\n",
    "\n",
    "### Data Preprocessing\n",
    "Preprocessing involves cleaning and transforming the data to make it suitable for model training.\n",
    "\n",
    "### Handling Missing Values\n",
    "- Fill or drop missing values. Imputation methods can be used to fill missing values based on the feature type (mean/median for numerical, mode for categorical).\n",
    "- but in this case it was performed because we cant manuplulate the without clients approval or clear understanding as per my knowledge that was not causing any problem and genuine.\n",
    "\n",
    "### Encoding Categorical Variables\n",
    "- Converted categorical variables into numerical values using mannual encoding, because value was less. we can also used techniques like label encoding.\n",
    "\n",
    "### Scaling Features\n",
    "- we used Standardization to ensure they data is on a similar scale.\n",
    "\n",
    "### Exploratory Data Analysis (EDA)\n",
    "- Performed EDA to understand the data distribution.info, describe, shape, Boxplot and heatmap etc.\n",
    "\n",
    "\n",
    "### Feature Engineering\n",
    "- In this step i removed some X variables which was not vaild or important for Fraud detection\n",
    "\n",
    "\n",
    "### Handling Imbalanced Data - in our case class was highly imbalanced\n",
    "- Address class imbalance to ensure the model is not biased towards the majority class (genuine transactions).\n",
    "- In this step we used Threshold value for balancing the class and also SMOTE (Synthetic Minority Over-sampling Technique)\n",
    "\n",
    "\n",
    "### Model Selection\n",
    "- Choosed a classification model\n",
    "- Logistic Regression: Useful for its simplicity and interpretability, though it may struggle with complex patterns.\n",
    "- Decision Trees: Can capture non-linear relationships and are easy to interpret.\n",
    "- we used both logistic Regression and Decision Tree both the model are showing great result we can use any one of them. but as per class of importance (isfraud). we should go with decision tree model.\n",
    "\n",
    "### Model Training and Evaluation\n",
    "- Train-Test Split\n",
    "- Divided the data into training and testing sets, using an 70-30 split.\n",
    "\n",
    "\n",
    "### Model Evaluation\n",
    "- Evaluated the model using confusion metrics that consider class imbalance:\n",
    "* Precision: The ratio of correctly predicted positive observations to the total predicted positives.\n",
    "* Recall: The ratio of correctly predicted positive observations to all observations in the actual class.\n",
    "* F1-Score: The harmonic mean of precision and recall, providing a balance between the two.\n",
    "* ROC-AUC Score: Measures the ability of the model to distinguish between classes. A higher AUC indicates better performance."
   ]
  },
  {
   "cell_type": "markdown",
   "id": "cdb40f3f",
   "metadata": {},
   "source": [
    "# 3. How did you select variables to be included in the model?\n",
    "- I selected vriables as per domain knowledge and after carefully analysing the data i understand some pointers.\n",
    "1. That only Transaction Type which are Cash_out and Transfer are the case where fraud is happening.\n",
    "2. Droping \"Step\" column because its only number series which will not affect the model performance or prediction\n",
    "3. Droping \"nameOrig\" and \"nameDest\" because it contain unique value like some kind of ID which is not important also not affect the model performance or prediction."
   ]
  },
  {
   "cell_type": "markdown",
   "id": "e398b2ec",
   "metadata": {},
   "source": [
    "# 4. Demonstrate the performance of the model by using best set of tools.\n",
    "- The confusion matrix helps to understand the distribution of true positive, true negative, false positive, and false negative predictions. The classification report gives a detailed breakdown of precision, recall, F1-score, and support for each class. The ROC curve illustrates the model's ability to discriminate between fraud and non-fraud transactions across different thresholds. Overall, these tools help assess the model's effectiveness in identifying fraudulent transactions and provide guidance for further improvements if needed.\n",
    "- Evaluated the model using confusion metrics that consider class imbalance:\n",
    "####  Precision: The ratio of correctly predicted positive observations to the total predicted positives.\n",
    "* For class 0:- 1\n",
    "* For class 1:- 0.61\n",
    "#### Recall: The ratio of correctly predicted positive observations to all observations in the actual class.\n",
    "* For class 0:- 1\n",
    "* For class 1:- 0.97\n",
    "#### F1-Score: The harmonic mean of precision and recall, providing a balance between the two.\n",
    "* For class 0:- 1\n",
    "* For class 1:- 0.75\n",
    "#### ROC-AUC Score: Measures the ability of the model to distinguish between classes. A higher AUC indicates better performance.\n",
    "* This is the highest AUC we got :- 0.7341963295772161 for 0.4 Threshold value.\n",
    "#### Accuracy\n",
    "* Accuracy Score :- 99%"
   ]
  },
  {
   "cell_type": "markdown",
   "id": "22e06ec0",
   "metadata": {},
   "source": [
    "# 5. What are the key factors that predict fraudulent customer?\n",
    "- In our case Transaction Type was most important for detection of Fraud.\n",
    "- Other key factors are :-\n",
    "- Transaction Amount\n",
    "- Transaction Type\n",
    "- Historical Pattern like oldbalance, newbalance etc"
   ]
  },
  {
   "cell_type": "markdown",
   "id": "ad23059d",
   "metadata": {},
   "source": [
    "# 6. Do these factors make sense? If yes, How? If not, How not?\n",
    "#### Transaction Type :- CASH_IN, CASH_OUT,DEBIT, PAYMENT, TRANSFER \n",
    "* Out of 6362620 records fraud is done on perticual \"Type\" that is CASH_OUT and TRANSFER. It indicates that this Type of transaction is important while predicting Fraud.\n",
    "#### Transaction Amount:-\n",
    "* Unusually large or small transaction amounts can indicate fraudulent behavior. Monitoring transaction amounts helps identify suspicious transactions that deviate from normal spending patterns.\n",
    "#### oldbalanceOrg' (Old Origin Account Balance) and 'newbalanceOrig' (New Origin Account Balance):- \n",
    "* These features represent the balance of the origin account before and after the transaction, So, Significant changes in these balances may indicate suspicious activity, such as large withdrawals or transfers. Monitoring changes in account balances helps detect abnormal transaction behavior and potential fraud, such as account takeover or unauthorized transfers.\n",
    "#### 'oldbalanceDest' (Old Destination Account Balance) and 'newbalanceDest' (New Destination Account Balance):-\n",
    "* Similar to origin account balances, these features represent the balance of the destination account before and after the transaction, respectively. Unusual changes in these balances may signal fraudulent activity, such as unexpected deposits or transfers. Monitoring changes in destination account balances helps identify suspicious transactions, such as money laundering or account manipulation."
   ]
  },
  {
   "cell_type": "markdown",
   "id": "c999ca66",
   "metadata": {},
   "source": [
    "# 7. What kind of prevention should be adopted while company update its infrastructure?\n",
    "- Company should update its infrastructure in such a way in which when any transaction which is huge. Then they should inform the owner about such transaction and take conformation from the owner before compeleting the transaction.\n",
    "- Provide training to employees on security practices, on how to recognize(like where transaction type is Cash_out and Transfer and also amount is Huge and does not match with historical data) and respond to potential security threats.\n",
    "- Feedback:- Collect feedbacks and we can update and train the model accordingly based on Current senario and trends.\n",
    "- Continue monitoring - it will help us to understand current senerios and current Fraudulent trends. which can be used to update or train model again for batter performance."
   ]
  },
  {
   "cell_type": "markdown",
   "id": "606607b1",
   "metadata": {},
   "source": [
    "# 8. Assuming these actions have been implemented, how would you determine if they work?\n",
    "- It will surely work as this are best practices and its been already followed by many financial institutions.\n",
    "- By continue monitoring and evaluating these points and feedback, you can assess the effectiveness of the implemented ideas and make decisions about adjustments or improvements. Continuous improvement is important to maintaining a strong security and effectively calculating risks in the rapidly evolving threat landscape."
   ]
  },
  {
   "cell_type": "code",
   "execution_count": null,
   "id": "b60ab885",
   "metadata": {},
   "outputs": [],
   "source": []
  }
 ],
 "metadata": {
  "kernelspec": {
   "display_name": "Python 3 (ipykernel)",
   "language": "python",
   "name": "python3"
  },
  "language_info": {
   "codemirror_mode": {
    "name": "ipython",
    "version": 3
   },
   "file_extension": ".py",
   "mimetype": "text/x-python",
   "name": "python",
   "nbconvert_exporter": "python",
   "pygments_lexer": "ipython3",
   "version": "3.11.7"
  }
 },
 "nbformat": 4,
 "nbformat_minor": 5
}
